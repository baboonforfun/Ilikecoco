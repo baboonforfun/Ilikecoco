{
 "cells": [
  {
   "cell_type": "markdown",
   "metadata": {},
   "source": [
    "# dsjsadhasjdadasdasdas\n",
    "## ola\n",
    "\n",
    "#### tudo bem\n",
    "*nesting* **ola** ***olas*** ****sadasda****"
   ]
  },
  {
   "cell_type": "code",
   "execution_count": null,
   "metadata": {},
   "outputs": [],
   "source": [
    "name = \"Toby\""
   ]
  },
  {
   "cell_type": "code",
   "execution_count": null,
   "metadata": {},
   "outputs": [],
   "source": [
    "print (\"Hello\")\n",
    "!pip list "
   ]
  },
  {
   "cell_type": "code",
   "execution_count": null,
   "metadata": {},
   "outputs": [],
   "source": [
    "%lsmagic"
   ]
  },
  {
   "cell_type": "code",
   "execution_count": 9,
   "metadata": {},
   "outputs": [
    {
     "data": {
      "image/png": "[encoded data removed]",
      "text/plain": [
       "<Figure size 432x288 with 1 Axes>"
      ]
     },
     "metadata": {
      "needs_background": "light"
     },
     "output_type": "display_data"
    }
   ],
   "source": [
    "import numpy as np \n",
    "import matplotlib.pyplot as plt\n",
    "\n",
    "x = np.random.rand(5)\n",
    "y = np.random.rand(5)\n",
    "colors = np.random.rand(5)\n",
    "area = 100\n",
    "plt.scatter(x, y, s=area, c=colors, alpha =0.5)\n",
    "plt.show()"
   ]
  },
  {
   "cell_type": "code",
   "execution_count": null,
   "metadata": {},
   "outputs": [],
   "source": [
    "%%HTML\n"
   ]
  },
  {
   "cell_type": "code",
   "execution_count": 1,
   "metadata": {},
   "outputs": [],
   "source": [
    "%matplotlib inline - para permir ver matplotlib(gráficos)\n",
    "%%timeit -- comparar tempos"
   ]
  },
  {
   "cell_type": "code",
   "execution_count": 11,
   "metadata": {},
   "outputs": [
    {
     "data": {
      "text/html": [
       "<div>\n",
       "<style scoped>\n",
       "    .dataframe tbody tr th:only-of-type {\n",
       "        vertical-align: middle;\n",
       "    }\n",
       "\n",
       "    .dataframe tbody tr th {\n",
       "        vertical-align: top;\n",
       "    }\n",
       "\n",
       "    .dataframe thead th {\n",
       "        text-align: right;\n",
       "    }\n",
       "</style>\n",
       "<table border=\"1\" class=\"dataframe\">\n",
       "  <thead>\n",
       "    <tr style=\"text-align: right;\">\n",
       "      <th></th>\n",
       "      <th>0</th>\n",
       "      <th>1</th>\n",
       "      <th>2</th>\n",
       "      <th>3</th>\n",
       "      <th>4</th>\n",
       "      <th>5</th>\n",
       "      <th>6</th>\n",
       "      <th>7</th>\n",
       "      <th>8</th>\n",
       "      <th>9</th>\n",
       "    </tr>\n",
       "  </thead>\n",
       "  <tbody>\n",
       "    <tr>\n",
       "      <td>0</td>\n",
       "      <td>0.283868</td>\n",
       "      <td>-0.082781</td>\n",
       "      <td>-0.616003</td>\n",
       "      <td>0.378545</td>\n",
       "      <td>-1.332995</td>\n",
       "      <td>-1.437858</td>\n",
       "      <td>-0.467611</td>\n",
       "      <td>0.035956</td>\n",
       "      <td>-0.772385</td>\n",
       "      <td>-0.476214</td>\n",
       "    </tr>\n",
       "    <tr>\n",
       "      <td>1</td>\n",
       "      <td>-0.074717</td>\n",
       "      <td>0.455223</td>\n",
       "      <td>0.625041</td>\n",
       "      <td>0.605186</td>\n",
       "      <td>-0.529150</td>\n",
       "      <td>0.148148</td>\n",
       "      <td>-0.352685</td>\n",
       "      <td>1.236587</td>\n",
       "      <td>1.193735</td>\n",
       "      <td>0.570151</td>\n",
       "    </tr>\n",
       "    <tr>\n",
       "      <td>2</td>\n",
       "      <td>-0.798056</td>\n",
       "      <td>-0.853467</td>\n",
       "      <td>0.730107</td>\n",
       "      <td>1.491365</td>\n",
       "      <td>0.443288</td>\n",
       "      <td>-0.964660</td>\n",
       "      <td>-0.568098</td>\n",
       "      <td>-1.546645</td>\n",
       "      <td>1.404565</td>\n",
       "      <td>-0.086395</td>\n",
       "    </tr>\n",
       "    <tr>\n",
       "      <td>3</td>\n",
       "      <td>-0.135681</td>\n",
       "      <td>-0.120722</td>\n",
       "      <td>1.816365</td>\n",
       "      <td>-0.091354</td>\n",
       "      <td>1.121828</td>\n",
       "      <td>-1.382703</td>\n",
       "      <td>0.733101</td>\n",
       "      <td>-1.830737</td>\n",
       "      <td>0.041305</td>\n",
       "      <td>-0.902369</td>\n",
       "    </tr>\n",
       "    <tr>\n",
       "      <td>4</td>\n",
       "      <td>-0.784324</td>\n",
       "      <td>0.781939</td>\n",
       "      <td>0.725397</td>\n",
       "      <td>1.166158</td>\n",
       "      <td>-2.016261</td>\n",
       "      <td>2.271687</td>\n",
       "      <td>-1.866030</td>\n",
       "      <td>0.141677</td>\n",
       "      <td>-0.562526</td>\n",
       "      <td>2.327649</td>\n",
       "    </tr>\n",
       "  </tbody>\n",
       "</table>\n",
       "</div>"
      ],
      "text/plain": [
       "          0         1         2         3         4         5         6  \\\n",
       "0  0.283868 -0.082781 -0.616003  0.378545 -1.332995 -1.437858 -0.467611   \n",
       "1 -0.074717  0.455223  0.625041  0.605186 -0.529150  0.148148 -0.352685   \n",
       "2 -0.798056 -0.853467  0.730107  1.491365  0.443288 -0.964660 -0.568098   \n",
       "3 -0.135681 -0.120722  1.816365 -0.091354  1.121828 -1.382703  0.733101   \n",
       "4 -0.784324  0.781939  0.725397  1.166158 -2.016261  2.271687 -1.866030   \n",
       "\n",
       "          7         8         9  \n",
       "0  0.035956 -0.772385 -0.476214  \n",
       "1  1.236587  1.193735  0.570151  \n",
       "2 -1.546645  1.404565 -0.086395  \n",
       "3 -1.830737  0.041305 -0.902369  \n",
       "4  0.141677 -0.562526  2.327649  "
      ]
     },
     "execution_count": 11,
     "metadata": {},
     "output_type": "execute_result"
    }
   ],
   "source": [
    "import pandas as pd\n",
    "import numpy as np\n",
    "\n",
    "df = pd.DataFrame(np.random.randn(5,10))\n",
    "df"
   ]
  }
 ],
 "metadata": {
  "kernelspec": {
   "display_name": "Python 3",
   "language": "python",
   "name": "python3"
  },
  "language_info": {
   "codemirror_mode": {
    "name": "ipython",
    "version": 3
   },
   "file_extension": ".py",
   "mimetype": "text/x-python",
   "name": "python",
   "nbconvert_exporter": "python",
   "pygments_lexer": "ipython3",
   "version": "3.7.4"
  }
 },
 "nbformat": 4,
 "nbformat_minor": 2
}
